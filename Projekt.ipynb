{
 "cells": [
  {
   "cell_type": "markdown",
   "id": "65687071",
   "metadata": {},
   "source": [
    "## Projekt om modellering og simulering\n",
    "\n",
    "En satellits bevægelse i Jordens tyngdefelt kan beskrives med Newtons gravitationslov. Ifølge Newtons gravitationslov virker der en tyngdekraft mellem Jorden og satellitten, hvis størrelse er\n",
    "$F=GMm/r^2$, hvor $M=5.97\\cdot 10^{24}\\text{ kg}$ er Jordens masse, $m$ er satellittens masse og $r$ er afstanden fra Jordens centrum til satellitten. Konstanten, $G=6.674\\cdot 10^{-11} \\text{N}\\cdot \\text{m}^2/\\text{kg}^2$, er gravitationskonstanten.\n",
    "\n",
    "Jordens radius er $R=6370\\text{ km}$.\n",
    "Det antages at Jorden er stationær og placeret i origo.\n",
    "\n",
    "Projektet består af en række opgaver der skal løses med brug af metoder fra kurset der er introduceret indtil nu.\n",
    "\n",
    "Newtons anden lov for satellittens bevægelse er\n",
    ">$m\\ddot {\\vec r}=-G\\frac{Mm}{r^2}\\frac{\\vec r}{r}$.\n",
    "\n",
    "eller opskrevet i $xy$-koordinater\n",
    ">$m\\ddot x =-G\\frac{Mm}{(x+y)^{3/2}}x$\n",
    "\n",
    ">$m\\ddot y =-G\\frac{Mm}{(x+y)^{3/2}}y$\n",
    "\n",
    "eller opskrevet i polærere koordinater.\n",
    ">$m\\left(\\ddot r-r\\dot \\theta^2\\right)=-G\\frac{Mm}{r^2}$\n",
    "\n",
    ">$m\\left(r\\ddot \\theta+2\\dot r\\dot\\theta \\right)=0$\n",
    "\n",
    "Besvarelsen af projektet skal være en Jupyter Notebook, fx kan man indsætte svar i dette dokument."
   ]
  },
  {
   "cell_type": "code",
   "execution_count": 1,
   "id": "4e6c6a15",
   "metadata": {},
   "outputs": [],
   "source": [
    "M = 5.97e24\n",
    "G = 6.674e-11\n",
    "R = 6370.e3"
   ]
  },
  {
   "cell_type": "markdown",
   "id": "0b4146d5",
   "metadata": {},
   "source": [
    "### Servicesatellit\n",
    "\n",
    "En servicesatellit skal bevæge sig i en cirkulær bane omkring Jorden, med en baneradius $3R$.\n",
    "\n",
    ">a) Bestem farten af satellitten i banen ved symbolsk regning i Python.\n",
    "\n",
    ">b) Beregn den numeriske værdi af farten i banerne med radius $3R$ og $5R$.\n",
    "\n",
    ">c) Plot satellittens bane ved at løse bevægelsesligningerne og tegn i samme plot Jorden samt en ret linje mellem koordinaterne (5R,-5R) og (5R,5R) (har at gøre med næste opgave)."
   ]
  },
  {
   "cell_type": "code",
   "execution_count": 7,
   "id": "9429e2fd",
   "metadata": {},
   "outputs": [
    {
     "ename": "AttributeError",
     "evalue": "'function' object has no attribute 'y'",
     "output_type": "error",
     "traceback": [
      "\u001b[1;31m---------------------------------------------------------------------------\u001b[0m",
      "\u001b[1;31mAttributeError\u001b[0m                            Traceback (most recent call last)",
      "\u001b[1;32mc:\\Users\\tobia\\OneDrive\\Skrivebord\\Python\\02002students\\Mekanik\\Projekt.ipynb Cell 4\u001b[0m line \u001b[0;36m2\n\u001b[0;32m     <a href='vscode-notebook-cell:/c%3A/Users/tobia/OneDrive/Skrivebord/Python/02002students/Mekanik/Projekt.ipynb#W3sZmlsZQ%3D%3D?line=22'>23</a>\u001b[0m hit\u001b[39m.\u001b[39mdirection \u001b[39m=\u001b[39m \u001b[39m1\u001b[39m\n\u001b[0;32m     <a href='vscode-notebook-cell:/c%3A/Users/tobia/OneDrive/Skrivebord/Python/02002students/Mekanik/Projekt.ipynb#W3sZmlsZQ%3D%3D?line=23'>24</a>\u001b[0m hit\u001b[39m.\u001b[39mterminal \u001b[39m=\u001b[39m \u001b[39mTrue\u001b[39;00m \n\u001b[1;32m---> <a href='vscode-notebook-cell:/c%3A/Users/tobia/OneDrive/Skrivebord/Python/02002students/Mekanik/Projekt.ipynb#W3sZmlsZQ%3D%3D?line=24'>25</a>\u001b[0m x \u001b[39m=\u001b[39m sol\u001b[39m.\u001b[39;49my[\u001b[39m0\u001b[39m]\u001b[39m*\u001b[39mnp\u001b[39m.\u001b[39mcos(sol\u001b[39m.\u001b[39my[\u001b[39m1\u001b[39m])\n\u001b[0;32m     <a href='vscode-notebook-cell:/c%3A/Users/tobia/OneDrive/Skrivebord/Python/02002students/Mekanik/Projekt.ipynb#W3sZmlsZQ%3D%3D?line=25'>26</a>\u001b[0m y \u001b[39m=\u001b[39m sol\u001b[39m.\u001b[39my[\u001b[39m0\u001b[39m]\u001b[39m*\u001b[39mnp\u001b[39m.\u001b[39msin(sol\u001b[39m.\u001b[39my[\u001b[39m1\u001b[39m])\n\u001b[0;32m     <a href='vscode-notebook-cell:/c%3A/Users/tobia/OneDrive/Skrivebord/Python/02002students/Mekanik/Projekt.ipynb#W3sZmlsZQ%3D%3D?line=26'>27</a>\u001b[0m u \u001b[39m=\u001b[39m np\u001b[39m.\u001b[39marray([x[i] \u001b[39mfor\u001b[39;00m i \u001b[39min\u001b[39;00m \u001b[39mrange\u001b[39m(np\u001b[39m.\u001b[39msize(x)) \u001b[39mif\u001b[39;00m y[i]\u001b[39m>\u001b[39m\u001b[39m0\u001b[39m])\n",
      "\u001b[1;31mAttributeError\u001b[0m: 'function' object has no attribute 'y'"
     ]
    }
   ],
   "source": [
    "\n",
    "import numpy as np\n",
    "from scipy.integrate import solve_ivp as sol\n",
    "from scipy.optimize import curve_fit\n",
    "from matplotlib import pyplot as plt\n",
    "\n",
    "#Opgave c\n",
    "M = 5.97e24\n",
    "G = 6.674e-11\n",
    "R = 6370.e3\n",
    "m = 1000\n",
    "r_0 = R*5\n",
    "r_dot_0 = 0\n",
    "theta_0 = 0\n",
    "theta_dot_0 = np.sqrt(G*M/r_0)/r_0\n",
    "def f(t,y):\n",
    "    r,theta,r_dot,theta_dot = y\n",
    "    F_r = -G*M*m/r**2\n",
    "    F_thea = 0\n",
    "    return [r_dot,theta_dot,F_r/m+r*theta_dot**2,(F_theta/m-2*r_dot*theta_dot)/r]\n",
    "def hit(t,y):\n",
    "    r,theta,r_dot,theta_dot = y\n",
    "    return theta - 2.0 * np.pi\n",
    "hit.direction = 1\n",
    "hit.terminal = True \n",
    "x = sol.y[0]*np.cos(sol.y[1])\n",
    "y = sol.y[0]*np.sin(sol.y[1])\n",
    "u = np.array([x[i] for i in range(np.size(x)) if y[i]>0])\n",
    "v = np.array([y[i] for i in range(np.size(x)) if y[i]>0])\n",
    "plt.plot(u,v,'r--')\n",
    "plt.show()"
   ]
  },
  {
   "cell_type": "markdown",
   "id": "eb4ef99f",
   "metadata": {},
   "source": [
    "### Overvågningskabine\n",
    "\n",
    "<table>\n",
    "<tr>\n",
    "<td align='bottom'>Vi ønsker at opsende en overvågningskabine der skal obserevere Jorden. Kabinen skal placeres så den glider på en lang, tynd, friktionsfri, stiv wire der fastholdes som vist i figuren (fastholdelsesmekanismen er ikke vist i figuren).\n",
    "\n",
    "Kabinen, der har massen, $m$, bevæger sig op og ned på wiren i en periodisk bevægelse i afstanden, $L$ fra Jordens centrum, under påvirkning af tyngdekraften fra Jorden. \n",
    "\n",
    "Det ønskes at kabinen befinder sig i den vandrette afstand af $L=5R$ og at den starter fra hvile i en højde, $3R$, dvs. så $\\theta \\approx 31^{\\text{o}}$.\n",
    "\n",
    "\n",
    ">a) Opstil kabinens bevægelsesligning, $m\\ddot x =\\ldots$.\n",
    "\n",
    ">b) Bestem perioden af kabinens svingning og angiv denne i timer.\n",
    "\n",
    ">c) Bestem den højde som kabinen skal starte i hvis dens periode skal være 24 timer.\n",
    "</td>\n",
    "<td><img src=\"Projekt1.png\" width=\"600\"/></td>\n",
    "</tr>\n",
    "</table>\n",
    "\n",
    "\n",
    "\n",
    "\n"
   ]
  },
  {
   "cell_type": "markdown",
   "id": "33e7bcc5",
   "metadata": {},
   "source": [
    "##### Eksempel på kode der varierer starthastigheden og beregner tiden som det tager en kabine at nå det højeste punkt. Koden er ikke en del af løsningen men kan måske inspirere."
   ]
  },
  {
   "cell_type": "code",
   "execution_count": 23,
   "id": "696c77b4",
   "metadata": {},
   "outputs": [
    {
     "name": "stdout",
     "output_type": "stream",
     "text": [
      "v0 = 100.00 m/s T=3.93 timer\n",
      "v0 = 195.00 m/s T=3.94 timer\n",
      "v0 = 290.00 m/s T=3.94 timer\n",
      "v0 = 385.00 m/s T=3.96 timer\n",
      "v0 = 480.00 m/s T=3.97 timer\n",
      "v0 = 575.00 m/s T=3.99 timer\n",
      "v0 = 670.00 m/s T=4.01 timer\n",
      "v0 = 765.00 m/s T=4.04 timer\n",
      "v0 = 860.00 m/s T=4.06 timer\n",
      "v0 = 955.00 m/s T=4.10 timer\n",
      "v0 = 1050.00 m/s T=4.13 timer\n",
      "v0 = 1145.00 m/s T=4.18 timer\n",
      "v0 = 1240.00 m/s T=4.22 timer\n",
      "v0 = 1335.00 m/s T=4.27 timer\n",
      "v0 = 1430.00 m/s T=4.33 timer\n",
      "v0 = 1525.00 m/s T=4.39 timer\n",
      "v0 = 1620.00 m/s T=4.46 timer\n",
      "v0 = 1715.00 m/s T=4.53 timer\n",
      "v0 = 1810.00 m/s T=4.61 timer\n",
      "v0 = 1905.00 m/s T=4.70 timer\n",
      "v0 = 2000.00 m/s T=4.80 timer\n"
     ]
    }
   ],
   "source": [
    "import numpy as np\n",
    "from scipy.integrate import solve_ivp\n",
    "import matplotlib.pyplot as plt\n",
    "L = 5 * R\n",
    "def f(t,y):\n",
    "    x,v = y\n",
    "    return [v,...]\n",
    "def top_point(t,y):\n",
    "    x,v = y\n",
    "    return v \n",
    "top_point.direction = -1\n",
    "top_point.terminal = True\n",
    "t = np.linspace(0,1000000,10000)\n",
    "for v0 in np.linspace(100,2000,21):\n",
    "    sol = solve_ivp(f,[0,1000000],t_eval=t,y0=[0,v0],events=[top_point],atol=1e-8,rtol=1e-8)\n",
    "    T = sol.t_events[0][0]\n",
    "    print('v0 = {:.2f} m/s T={:.2f} timer'.format(v0,T/60/60))"
   ]
  },
  {
   "cell_type": "markdown",
   "id": "5f0f239d",
   "metadata": {},
   "source": [
    "#### Hohmann-bane for servicesatellitten\n",
    "\n",
    "Det er nødvendigt at servicesatellitten engang imellem skifter fra sin cirkulære bane til en mere ydreliggende cirkulær bane. Den ydreliggende bane skal tangere overvågningskabinens lodrette bane, i afstanden $5R$ fra Jordens centrum. Dette kan opnås ved at ændre hastigheden af satellitten i et punkt i dens normale bane, så den følger en overførelsesbane, indtil den når den ydreliggende bane. Der skal hastigheden igen ændres. En sådan overførelsesbane kaldes for en Hohmann-bane, og den er den mest energieffektive overførelsesbane.\n",
    "\n",
    "For enkelhedens skyld antages det at massen af satellitten ikke ændres\n",
    "under manøvrerne.\n",
    "Det vil sige at brændstofforbruget antages forsvindende (I er velkomne til at udvide modellen til kortvarige brændstofforbrug med skønnede massetab). Massen sættes til $m=100\\text{ kg}$.\n",
    "\n",
    ">a) Find den hastighedsændring af satellitten som leder til at den kan nærme sig og ramme den ydreliggende cirkulære bane tangentielt. Hvor lang tid tager overførelsen mellem banerne?\n",
    "\n",
    ">b) Find nu hastighedsændringen for at satellitten kan fortsætte på den ydreliggende cirkulære bane.\n",
    "\n",
    ">c) Bestem den energi det har kostet at skifte bane.\n",
    "\n",
    ">d) Visualisér vha. plots i Python overførelsesbanen sammen med de to cirkulære baner."
   ]
  },
  {
   "cell_type": "code",
   "execution_count": null,
   "id": "6bf061a6",
   "metadata": {},
   "outputs": [],
   "source": []
  },
  {
   "cell_type": "markdown",
   "id": "2acb3e0a",
   "metadata": {},
   "source": [
    "### Perioden af satellitbevægelse omkring Jorden\n",
    "\n",
    "Det er nødvendigt, for at kunne vælge det korrekte afsendelsestidspunkt til overførselsbanen, så servicesatellitten kan møde en anden satellit, at vide hvordan perioden af satellittens bevægelse\n",
    "afhænger af radius. \n",
    "Derfor ønskes det undersøgt på empirisk grundlag hvordan perioden af en satellits bevægelse omkring Jorden afhænger af afstanden til Jorden. Der er ingen tilgængelige data om dette, til gengæld er der \n",
    "nedenfor, for en række planeter og en enkelt dværgplanet, angivet den gennemsnitlige afstand til Solen og perioden for planeternes bevægelse omkring Solen.\n",
    "\n",
    ">a) Undersøg vha. forskellige plots hvordan perioden afhænger af den gennemsnitlige afstand til Solen. Hvilken type af funktionel afhængighed er der tale om?\n",
    "\n",
    ">b) Foretag en regressionsanalyse med den i a) bestemte model.\n",
    "\n",
    ">c) Undersøg vha. karakteristiske skalaer eller dimensionsanalyse hvordan perioden, $T$, afhænger af den gennemsnitlige afstand, $R$, Solens masse, $M$ og gravitationskonstanten, $G$."
   ]
  },
  {
   "cell_type": "code",
   "execution_count": 31,
   "id": "d81dc0a4",
   "metadata": {},
   "outputs": [],
   "source": [
    "import numpy as np\n",
    "planet = ['Mercury','Venus','Earth','Mars','Jupiter','Saturn','Uranus','Neptune','Pluto']\n",
    "mean_distance = [5.97e10,1.08e11,1.496e11,2.28e11,7.78e11,1.43e12,2.87e12,4.50e12,5.91e12]\n",
    "period = [7.60e6,1.94e7,3.156e7,5.94e7,3.74e8,9.29e8,2.65e9,5.18e9,7.82e9]"
   ]
  },
  {
   "cell_type": "code",
   "execution_count": null,
   "id": "ed5d72dd",
   "metadata": {},
   "outputs": [],
   "source": []
  }
 ],
 "metadata": {
  "kernelspec": {
   "display_name": "Python 3 (ipykernel)",
   "language": "python",
   "name": "python3"
  },
  "language_info": {
   "codemirror_mode": {
    "name": "ipython",
    "version": 3
   },
   "file_extension": ".py",
   "mimetype": "text/x-python",
   "name": "python",
   "nbconvert_exporter": "python",
   "pygments_lexer": "ipython3",
   "version": "3.11.5"
  }
 },
 "nbformat": 4,
 "nbformat_minor": 5
}
